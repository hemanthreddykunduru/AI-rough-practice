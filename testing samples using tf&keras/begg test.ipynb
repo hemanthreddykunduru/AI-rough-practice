{
 "cells": [
  {
   "cell_type": "code",
   "execution_count": 60,
   "id": "a585216e",
   "metadata": {},
   "outputs": [
    {
     "name": "stdout",
     "output_type": "stream",
     "text": [
      "Epoch 1/5\n",
      "1875/1875 [==============================] - 2s 797us/step - loss: 19.7180 - accuracy: 0.3017\n",
      "Epoch 2/5\n",
      "1875/1875 [==============================] - 2s 804us/step - loss: 1.8025 - accuracy: 0.3523\n",
      "Epoch 3/5\n",
      "1875/1875 [==============================] - 2s 809us/step - loss: 1.7328 - accuracy: 0.3876\n",
      "Epoch 4/5\n",
      "1875/1875 [==============================] - 2s 839us/step - loss: 1.7676 - accuracy: 0.3794\n",
      "Epoch 5/5\n",
      "1875/1875 [==============================] - 2s 828us/step - loss: 1.8045 - accuracy: 0.3542\n"
     ]
    }
   ],
   "source": [
    "import tensorflow as tf\n",
    "from tensorflow import keras\n",
    "mnist=keras.datasets.mnist\n",
    "(x_train,x_test),(y_train,y_test)=mnist.load_data()\n",
    "model=tf.keras.Sequential([\n",
    "    tf.keras.layers.Flatten(),\n",
    "    tf.keras.layers.Dense(128,activation='relu'),\n",
    "    tf.keras.layers.Dense(10,activation='softmax')\n",
    "])\n",
    "model.compile(loss='sparse_categorical_crossentropy',optimizer='sgd',metrics=['accuracy'])\n",
    "model1=model.fit(x_train,x_test,epochs=5)"
   ]
  },
  {
   "cell_type": "code",
   "execution_count": 51,
   "id": "ef1dfe35",
   "metadata": {},
   "outputs": [
    {
     "name": "stdout",
     "output_type": "stream",
     "text": [
      "Model: \"sequential_22\"\n",
      "_________________________________________________________________\n",
      "Layer (type)                 Output Shape              Param #   \n",
      "=================================================================\n",
      "flatten_24 (Flatten)         (32, 784)                 0         \n",
      "_________________________________________________________________\n",
      "dense_44 (Dense)             (32, 128)                 100480    \n",
      "_________________________________________________________________\n",
      "dense_45 (Dense)             (32, 10)                  1290      \n",
      "=================================================================\n",
      "Total params: 101,770\n",
      "Trainable params: 101,770\n",
      "Non-trainable params: 0\n",
      "_________________________________________________________________\n"
     ]
    }
   ],
   "source": [
    "model.summary()"
   ]
  },
  {
   "cell_type": "code",
   "execution_count": 56,
   "id": "b44e1ec7",
   "metadata": {},
   "outputs": [
    {
     "data": {
      "image/png": "[encoded data removed]",
      "text/plain": [
       "<Figure size 432x288 with 1 Axes>"
      ]
     },
     "metadata": {
      "needs_background": "light"
     },
     "output_type": "display_data"
    }
   ],
   "source": [
    "import matplotlib.pyplot as plt\n",
    "epochs=range(len(accuracy))\n",
    "plt.plot(epochs,accuracy)\n",
    "plt.plot(epochs,loss)\n",
    "plt.show()"
   ]
  },
  {
   "cell_type": "code",
   "execution_count": null,
   "id": "a3fbfe4c",
   "metadata": {},
   "outputs": [],
   "source": []
  }
 ],
 "metadata": {
  "kernelspec": {
   "display_name": "Python 3 (ipykernel)",
   "language": "python",
   "name": "python3"
  },
  "language_info": {
   "codemirror_mode": {
    "name": "ipython",
    "version": 3
   },
   "file_extension": ".py",
   "mimetype": "text/x-python",
   "name": "python",
   "nbconvert_exporter": "python",
   "pygments_lexer": "ipython3",
   "version": "3.9.7"
  }
 },
 "nbformat": 4,
 "nbformat_minor": 5
}
